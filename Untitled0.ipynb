{
  "nbformat": 4,
  "nbformat_minor": 0,
  "metadata": {
    "colab": {
      "provenance": []
    },
    "kernelspec": {
      "name": "python3",
      "display_name": "Python 3"
    },
    "language_info": {
      "name": "python"
    }
  },
  "cells": [
    {
      "cell_type": "code",
      "execution_count": 14,
      "metadata": {
        "colab": {
          "base_uri": "https://localhost:8080/"
        },
        "id": "2ZVTlF5AWS93",
        "outputId": "cb689abd-e27c-472b-9a59-d6490ef4ccab"
      },
      "outputs": [
        {
          "output_type": "stream",
          "name": "stdout",
          "text": [
            "New created array:  2 4 6 8 10 \r\n"
          ]
        }
      ],
      "source": [
        "# import the \"array\" for demonstrating array operations\n",
        "\n",
        "import array\n",
        "# initializing an array with array values and signed integers\n",
        "\n",
        "arr = array.array('I', [2, 4, 6, 8, 10, 12])\n",
        "\n",
        "# print the original array\n",
        "\n",
        "print (\"New created array: \", end =\" \" )\n",
        "\n",
        "for I in range(0,5):\n",
        "  print(arr[I],end=\" \")\n",
        "\n",
        "print (\"\\r\")"
      ]
    }
  ]
}