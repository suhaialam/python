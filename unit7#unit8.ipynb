{
  "nbformat": 4,
  "nbformat_minor": 0,
  "metadata": {
    "colab": {
      "provenance": []
    },
    "kernelspec": {
      "name": "python3",
      "display_name": "Python 3"
    },
    "language_info": {
      "name": "python"
    }
  },
  "cells": [
    {
      "cell_type": "code",
      "source": [
        "import pandas as pd\n",
        "\n",
        "# Dictionary of lists\n",
        "data = {'name': [\"Smith\", \"William\", \"Phill\", \"Parker\"],\n",
        "        'age': [\"28\", \"39\", \"39\", \"34\"]}\n",
        "\n",
        "# Create DataFrame\n",
        "info = pd.DataFrame(data)\n",
        "\n",
        "# Setting custom index\n",
        "info.index = [True, True, False, True]\n",
        "\n",
        "# Print DataFrame\n",
        "print(info)\n"
      ],
      "metadata": {
        "colab": {
          "base_uri": "https://localhost:8080/"
        },
        "id": "9wugG7vahzhN",
        "outputId": "b31b544c-4df2-43ee-a197-8472df47a1f6"
      },
      "execution_count": 11,
      "outputs": [
        {
          "output_type": "stream",
          "name": "stdout",
          "text": [
            "          name age\n",
            "True     Smith  28\n",
            "True   William  39\n",
            "False    Phill  39\n",
            "True    Parker  34\n"
          ]
        }
      ]
    },
    {
      "cell_type": "code",
      "source": [
        "import pandas as pd\n",
        "\n",
        "# Dictionary of lists\n",
        "data = {'name': [\"Smith\", \"William\", \"Phill\", \"Parker\"],\n",
        "        'age': [\"28\", \"39\", \"34\", \"36\"]}\n",
        "\n",
        "# Create DataFrame\n",
        "info = pd.DataFrame(data, index=[True, True, False, True])\n",
        "\n",
        "# Accessing a DataFrame using .loc[] function\n",
        "print(info.loc[True])\n"
      ],
      "metadata": {
        "colab": {
          "base_uri": "https://localhost:8080/"
        },
        "id": "93avGP_EkmrL",
        "outputId": "bef38e49-642f-4fd0-d466-2219b33c4680"
      },
      "execution_count": 17,
      "outputs": [
        {
          "output_type": "stream",
          "name": "stdout",
          "text": [
            "         name age\n",
            "True    Smith  28\n",
            "True  William  39\n",
            "True   Parker  36\n"
          ]
        }
      ]
    },
    {
      "cell_type": "code",
      "source": [
        "import numpy as np\n",
        "\n",
        "# Original array\n",
        "arr = np.arange(16)\n",
        "print(\"The Original array is:\\n\", arr)\n",
        "\n",
        "# Reshaping the array into 2 rows and 8 columns\n",
        "arr = np.arange(16).reshape(2, 8)\n",
        "print(\"\\nReshaped array:\\n\", arr)\n",
        "\n",
        "# Reshaping the array into 8 rows and 2 columns\n",
        "arr = np.arange(16).reshape(8, 2)\n",
        "print(\"\\nReshaped array:\\n\", arr)\n"
      ],
      "metadata": {
        "colab": {
          "base_uri": "https://localhost:8080/"
        },
        "id": "IYTMIiHHkrIQ",
        "outputId": "939eefd1-879a-4ef5-a6fd-a2a9eade04a0"
      },
      "execution_count": 18,
      "outputs": [
        {
          "output_type": "stream",
          "name": "stdout",
          "text": [
            "The Original array is:\n",
            " [ 0  1  2  3  4  5  6  7  8  9 10 11 12 13 14 15]\n",
            "\n",
            "Reshaped array:\n",
            " [[ 0  1  2  3  4  5  6  7]\n",
            " [ 8  9 10 11 12 13 14 15]]\n",
            "\n",
            "Reshaped array:\n",
            " [[ 0  1]\n",
            " [ 2  3]\n",
            " [ 4  5]\n",
            " [ 6  7]\n",
            " [ 8  9]\n",
            " [10 11]\n",
            " [12 13]\n",
            " [14 15]]\n"
          ]
        }
      ]
    },
    {
      "cell_type": "code",
      "source": [
        "import numpy as np\n",
        "\n",
        "# Create a rank 1 array\n",
        "a = np.array([1, 2, 3])\n",
        "\n",
        "# Print the type of the array\n",
        "print(type(a))  # Should print \"<class 'numpy.ndarray'>\"\n",
        "\n",
        "# Print the shape of the array\n",
        "print(a.shape)  # Should print \"(3,)\"\n",
        "\n",
        "# Print individual elements of the array\n",
        "print(a[0], a[1], a[2])  # Should print \"1 2 3\"\n",
        "\n",
        "# Change an element of the array\n",
        "a[0] = 5\n",
        "print(a)  # Should print \"[5, 2, 3]\"\n",
        "\n",
        "# Create a rank 2 array\n",
        "b = np.array([[1, 2, 3], [4, 5, 6]])\n",
        "\n",
        "# Print the shape of the array\n",
        "print(b.shape)  # Should print \"(2, 3)\"\n",
        "\n",
        "# Print individual elements of the array\n",
        "print(b[0, 0], b[0, 1], b[1, 0])  # Should print \"1 2 4\"\n",
        "\n",
        "# Numpy also provides many functions to create arrays:\n",
        "\n",
        "# Create an array of all zeros\n",
        "a = np.zeros((2, 2))\n",
        "print(a)\n",
        "\n",
        "# Create an array of all ones\n",
        "b = np.ones((1, 2))\n",
        "print(b)\n",
        "\n",
        "# Create a constant array\n",
        "c = np.full((2, 2), 7)\n",
        "print(c)\n",
        "\n",
        "# Create a 2x2 identity matrix\n",
        "d = np.eye(2)\n",
        "print(d)\n",
        "\n",
        "# Create an array filled with random values\n",
        "e = np.random.random((2, 2))\n",
        "print(e)\n"
      ],
      "metadata": {
        "colab": {
          "base_uri": "https://localhost:8080/"
        },
        "id": "1_d7VsQwmS6S",
        "outputId": "a851565b-ec36-4a8c-f7f1-a0d7cb7d7fec"
      },
      "execution_count": 19,
      "outputs": [
        {
          "output_type": "stream",
          "name": "stdout",
          "text": [
            "<class 'numpy.ndarray'>\n",
            "(3,)\n",
            "1 2 3\n",
            "[5 2 3]\n",
            "(2, 3)\n",
            "1 2 4\n",
            "[[0. 0.]\n",
            " [0. 0.]]\n",
            "[[1. 1.]]\n",
            "[[7 7]\n",
            " [7 7]]\n",
            "[[1. 0.]\n",
            " [0. 1.]]\n",
            "[[0.46203614 0.50438561]\n",
            " [0.91602003 0.20476875]]\n"
          ]
        }
      ]
    },
    {
      "cell_type": "code",
      "source": [
        "import numpy as np\n",
        "\n",
        "# Create the following rank 2 array with shape (3, 4)\n",
        "a = np.array([[1, 2, 3, 4], [5, 6, 7, 8], [9, 10, 11, 12]])\n",
        "\n",
        "# Use slicing to pull out the subarray consisting of the first 2 rows\n",
        "# and columns 1 and 2; b is the following array of shape (2, 2):\n",
        "# [[2 3]\n",
        "#  [6 7]]\n",
        "b = a[:2, 1:3]\n",
        "\n",
        "# A slice of an array is a view into the same data, so modifying it\n",
        "# will modify the original array.\n",
        "\n",
        "print(a[0, 1])  # Prints \"2\"\n",
        "\n",
        "b[0, 0] = 77  # b[0, 0] is the same piece of data as a[0, 1]\n",
        "\n",
        "print(a[0, 1])  # Prints \"77\"\n"
      ],
      "metadata": {
        "colab": {
          "base_uri": "https://localhost:8080/"
        },
        "id": "vOCye02LnVl7",
        "outputId": "ad964c31-84d9-4e9e-c952-b2ac2037ace3"
      },
      "execution_count": 20,
      "outputs": [
        {
          "output_type": "stream",
          "name": "stdout",
          "text": [
            "2\n",
            "77\n"
          ]
        }
      ]
    },
    {
      "cell_type": "code",
      "source": [
        "import numpy as np\n",
        "\n",
        "# Create the following rank 2 array with shape (3, 4)\n",
        "a = np.array([[1, 2, 3, 4], [5, 6, 7, 8], [9, 10, 11, 12]])\n",
        "\n",
        "# Two ways of accessing the data in the middle row of the array.\n",
        "# Mixing integer indexing with slices yields an array of lower rank,\n",
        "# while using only slices yields an array of the same rank as the\n",
        "# original array:\n",
        "\n",
        "# Rank 1 view of the second row of a\n",
        "row_r1 = a[1, :]\n",
        "# Rank 2 view of the second row of a\n",
        "row_r2 = a[1:2, :]\n",
        "\n",
        "print(row_r1, row_r1.shape)  # Prints \"[5 6 7 8] (4,)\"\n",
        "print(row_r2, row_r2.shape)  # Prints \"[[5 6 7 8]] (1, 4)\"\n",
        "\n",
        "# We can make the same distinction when accessing columns of an array:\n",
        "# Rank 1 view of the second column of a\n",
        "col_r1 = a[:, 1]\n",
        "# Rank 2 view of the second column of a\n",
        "col_r2 = a[:, 1:2]\n",
        "\n",
        "print(col_r1, col_r1.shape)  # Prints \"[ 2  6 10] (3,)\"\n",
        "print(col_r2, col_r2.shape)  # Prints \"[[ 2]\n",
        "                              #          [ 6]\n",
        "                              #          [10]] (3, 1)\"\n"
      ],
      "metadata": {
        "colab": {
          "base_uri": "https://localhost:8080/"
        },
        "id": "aFsBiSuen3Qx",
        "outputId": "f15221b4-e455-4cc7-ff80-5b266afe4916"
      },
      "execution_count": 21,
      "outputs": [
        {
          "output_type": "stream",
          "name": "stdout",
          "text": [
            "[5 6 7 8] (4,)\n",
            "[[5 6 7 8]] (1, 4)\n",
            "[ 2  6 10] (3,)\n",
            "[[ 2]\n",
            " [ 6]\n",
            " [10]] (3, 1)\n"
          ]
        }
      ]
    },
    {
      "cell_type": "code",
      "source": [
        "import numpy as np\n",
        "\n",
        "# Create a 2D array\n",
        "a = np.array([[1, 2], [3, 4], [5, 6]])\n",
        "\n",
        "# Example of integer array indexing\n",
        "print(a[[0, 1, 2], [0, 1, 0]])  # Prints \"[1 4 5]\"\n",
        "\n",
        "# Equivalent to the above using basic indexing\n",
        "print(np.array([a[0, 0], a[1, 1], a[2, 0]]))  # Prints \"[1 4 5]\"\n",
        "\n",
        "# Reusing the same element from the source array\n",
        "print(a[[0, 0], [1, 1]])  # Prints \"[2 2]\"\n",
        "\n",
        "# Equivalent to the previous example using basic indexing\n",
        "print(np.array([a[0, 1], a[0, 1]]))  # Prints \"[2 2]\"\n",
        "\n",
        "# Selecting or mutating one element from each row of a matrix\n",
        "a = np.array([[1, 2, 3], [4, 5, 6], [7, 8, 9], [10, 11, 12]])\n",
        "print(a)\n",
        "\n",
        "# Create an array of indices\n",
        "b = np.array([0, 2, 0, 1])\n",
        "\n",
        "# Select one element from each row of a using the indices in b\n",
        "print(a[np.arange(4), b])  # Prints \"[ 1 6 7 11]\"\n",
        "\n",
        "# Mutate one element from each row of a using the indices in b\n",
        "a[np.arange(4), b] += 10\n",
        "print(a)  # Prints the mutated array\n"
      ],
      "metadata": {
        "colab": {
          "base_uri": "https://localhost:8080/"
        },
        "id": "suKrOwpOpXk9",
        "outputId": "6c44263f-6d10-4bb3-f240-ae9a71862c6e"
      },
      "execution_count": 22,
      "outputs": [
        {
          "output_type": "stream",
          "name": "stdout",
          "text": [
            "[1 4 5]\n",
            "[1 4 5]\n",
            "[2 2]\n",
            "[2 2]\n",
            "[[ 1  2  3]\n",
            " [ 4  5  6]\n",
            " [ 7  8  9]\n",
            " [10 11 12]]\n",
            "[ 1  6  7 11]\n",
            "[[11  2  3]\n",
            " [ 4  5 16]\n",
            " [17  8  9]\n",
            " [10 21 12]]\n"
          ]
        }
      ]
    },
    {
      "cell_type": "code",
      "source": [
        "import numpy as np\n",
        "\n",
        "a = np.array([[1, 2], [3, 4], [5, 6]])\n",
        "\n",
        "# Creating a boolean array based on the condition (a > 2)\n",
        "bool_idx = (a > 2)\n",
        "\n",
        "# Print the boolean array\n",
        "print(bool_idx)\n",
        "\n",
        "# Prints \"[[False False]\n",
        "#          [ True  True]\n",
        "#          [ True  True]]\"\n",
        "\n",
        "# Use boolean array indexing to construct a rank 1 array\n",
        "# consisting of the elements of 'a' corresponding to the True values\n",
        "# of bool_idx\n",
        "print(a[bool_idx])\n",
        "\n",
        "# Prints \"[3 4 5 6]\"\n",
        "\n",
        "# We can also do all of the above in a single concise statement:\n",
        "print(a[a > 2])\n",
        "\n",
        "# Prints \"[3 4 5 6]\"\n"
      ],
      "metadata": {
        "colab": {
          "base_uri": "https://localhost:8080/"
        },
        "id": "4hCEVuwFqOYt",
        "outputId": "14c1d6e4-5b6a-4fd8-da60-26be7765c1a0"
      },
      "execution_count": 23,
      "outputs": [
        {
          "output_type": "stream",
          "name": "stdout",
          "text": [
            "[[False False]\n",
            " [ True  True]\n",
            " [ True  True]]\n",
            "[3 4 5 6]\n",
            "[3 4 5 6]\n"
          ]
        }
      ]
    },
    {
      "cell_type": "code",
      "source": [
        "import numpy as np\n",
        "\n",
        "x = np.array([1, 2])\n",
        "# Let numpy choose the datatype\n",
        "print(x.dtype)  # Prints \"int64\"\n",
        "\n",
        "x = np.array([1.0, 2.0])\n",
        "# Let numpy choose the datatype\n",
        "print(x.dtype)  # Prints \"float64\"\n",
        "\n",
        "x = np.array([1, 2], dtype=np.int64)  # Specify a particular datatype\n",
        "# Force a particular datatype\n",
        "print(x.dtype)  # Prints \"int64\"\n"
      ],
      "metadata": {
        "colab": {
          "base_uri": "https://localhost:8080/"
        },
        "id": "FxJT1dnmqezV",
        "outputId": "80412e66-2d78-4938-c823-95fd2ee2fbd6"
      },
      "execution_count": 24,
      "outputs": [
        {
          "output_type": "stream",
          "name": "stdout",
          "text": [
            "int64\n",
            "float64\n",
            "int64\n"
          ]
        }
      ]
    },
    {
      "cell_type": "code",
      "source": [
        "import numpy as np\n",
        "\n",
        "x = np.array([[1, 2], [3, 4]], dtype=np.float64)\n",
        "y = np.array([[5, 6], [7, 8]], dtype=np.float64)\n",
        "\n",
        "# Elementwise sum\n",
        "print(x + y)\n",
        "print(np.add(x, y))\n",
        "\n",
        "# Elementwise difference\n",
        "print(x - y)\n",
        "print(np.subtract(x, y))\n",
        "\n",
        "# Elementwise product\n",
        "print(x * y)\n",
        "print(np.multiply(x, y))\n",
        "\n",
        "# Elementwise division\n",
        "print(x / y)\n",
        "print(np.divide(x, y))\n",
        "\n",
        "# Elementwise square root\n",
        "print(np.sqrt(x))\n"
      ],
      "metadata": {
        "colab": {
          "base_uri": "https://localhost:8080/"
        },
        "id": "zQhs2m9irN63",
        "outputId": "34db1812-0676-4a7a-bb7c-5664520c3d15"
      },
      "execution_count": 25,
      "outputs": [
        {
          "output_type": "stream",
          "name": "stdout",
          "text": [
            "[[ 6.  8.]\n",
            " [10. 12.]]\n",
            "[[ 6.  8.]\n",
            " [10. 12.]]\n",
            "[[-4. -4.]\n",
            " [-4. -4.]]\n",
            "[[-4. -4.]\n",
            " [-4. -4.]]\n",
            "[[ 5. 12.]\n",
            " [21. 32.]]\n",
            "[[ 5. 12.]\n",
            " [21. 32.]]\n",
            "[[0.2        0.33333333]\n",
            " [0.42857143 0.5       ]]\n",
            "[[0.2        0.33333333]\n",
            " [0.42857143 0.5       ]]\n",
            "[[1.         1.41421356]\n",
            " [1.73205081 2.        ]]\n"
          ]
        }
      ]
    },
    {
      "cell_type": "code",
      "source": [
        "import numpy as np\n",
        "\n",
        "x = np.array([[1, 2], [3, 4]])\n",
        "y = np.array([[5, 6], [7, 8]])\n",
        "v = np.array([9, 10])\n",
        "w = np.array([11, 12])\n",
        "\n",
        "# Inner product of vectors\n",
        "print(v.dot(w))\n",
        "print(np.dot(v, w))  # Both print \"219\"\n",
        "\n",
        "# Matrix / vector product\n",
        "print(x.dot(v))\n",
        "print(np.dot(x, v))  # Both print \"[29 67]\"\n",
        "\n",
        "# Matrix / matrix product\n",
        "print(x.dot(y))\n",
        "print(np.dot(x, y))  # Both print \"[[19 22] [43 50]]\"\n",
        "\n",
        "# Summation operations\n",
        "print(np.sum(x))  # Compute sum of all elements; prints \"10\"\n",
        "print(np.sum(x, axis=0))  # Compute sum of each column; prints \"[4 6]\"\n",
        "print(np.sum(x, axis=1))  # Compute sum of each row; prints \"[3 7]\"\n"
      ],
      "metadata": {
        "colab": {
          "base_uri": "https://localhost:8080/"
        },
        "id": "ccXvJgoesDOZ",
        "outputId": "9896d57f-84a9-4850-e3e2-6e407c60c211"
      },
      "execution_count": 26,
      "outputs": [
        {
          "output_type": "stream",
          "name": "stdout",
          "text": [
            "219\n",
            "219\n",
            "[29 67]\n",
            "[29 67]\n",
            "[[19 22]\n",
            " [43 50]]\n",
            "[[19 22]\n",
            " [43 50]]\n",
            "10\n",
            "[4 6]\n",
            "[3 7]\n"
          ]
        }
      ]
    },
    {
      "cell_type": "code",
      "source": [
        "import numpy as np\n",
        "\n",
        "x = np.array([[1, 2], [3, 4]])\n",
        "\n",
        "print(x)\n",
        "# Prints \"[[1 2]\n",
        "#          [3 4]]\"\n",
        "\n",
        "print(x.T)\n",
        "# Prints \"[[1 3]\n",
        "#          [2 4]]\"\n",
        "\n",
        "# Note that taking the transpose of a rank 1 array does nothing:\n",
        "v = np.array([1, 2, 3])\n",
        "print(v)  # Prints \"[1 2 3]\"\n",
        "print(v.T)  # Prints \"[1 2 3]\"\n"
      ],
      "metadata": {
        "colab": {
          "base_uri": "https://localhost:8080/"
        },
        "id": "U1boVdF4smz-",
        "outputId": "b26c81b0-005d-46be-ad9c-624f7015fe1b"
      },
      "execution_count": 27,
      "outputs": [
        {
          "output_type": "stream",
          "name": "stdout",
          "text": [
            "[[1 2]\n",
            " [3 4]]\n",
            "[[1 3]\n",
            " [2 4]]\n",
            "[1 2 3]\n",
            "[1 2 3]\n"
          ]
        }
      ]
    }
  ]
}